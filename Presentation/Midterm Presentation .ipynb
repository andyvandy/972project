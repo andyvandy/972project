{
 "cells": [
  {
   "cell_type": "markdown",
   "metadata": {},
   "source": [
    "## Algorithms for Portfolio Management based on the Newton Method by Agarwal et al. 2006\n",
    "#### ACTSC972 Midterm Presentation: Josh Valchar, Andrew van den Hoeven"
   ]
  },
  {
   "cell_type": "markdown",
   "metadata": {},
   "source": [
    "### 1. Introduction \n",
    "- Authors seek online wealth investment strategies which enable an investor to maximize his wealth by distributing it on a set of available financial instruments \n",
    "- No statistical assumptions about the behaviour of the market \n",
    "- Market is allowed to be adversarial \n",
    "- Goal: maximize wealth relative to that achieved by the constant rebalanced portfolio (CRP)\n",
    "- In addition to maximizing wealth, the authors are also concerned with computational efficiency \n",
    "\n",
    "#### Constant-rebalanced Portfolio\n",
    "- A CRP strategy rebalances the wealth each trading period to have a fixed proportion in every stock in the portfolio \n",
    "\n",
    "#### Measuring Strategy Performance \n",
    "- Regret:\n",
    "    - The relative difference between the logarithmic growth ratio achieved over the entire trading period, and that achieved by a prescient investor (one who knows market outcomes in advance)\n",
    "- An investment strategy universal if it achieves sublinear regret \n",
    "\n",
    "#### Past Work \n",
    "- Universal portfolio management algorithms have been optimal with respect to regret, but computationally inefficient (Cover, 1991), or efficient but obtained suboptimal regret (Helmbold et al. 1998)\n",
    "- Recent works have remedied this issue (Agarwal and Hazan, 2005), and have been successfully generalized\n",
    "- Current successful algorithms are based on the follow the leader method, a strategy which advocates the use of the best strategy so far in the next iteration (trading period)\n",
    "- This paper brings out the connection between follow-the-leader to the Newton Method for offline optimization \n",
    "\n",
    "#### Evaluation \n",
    "- Reproduce the experiments of several papers: Cover (1991), Helmbold et al. (1998)\n",
    "- Performance Metrics:   \n",
    "    - Annualized Percentage Yields\n",
    "    - Sharpe Ratio \n",
    "    - Mean Variance Optimality "
   ]
  },
  {
   "cell_type": "markdown",
   "metadata": {},
   "source": [
    "### 2. Notation and Preliminaries \n",
    "- A portfolio of N stocks \n",
    "- Trading periods $t=1,...,T$\n",
    "- Investor observes a relative price vector $r_{t} \\in \\mathbb{R}$, such that $r_{t}(j)$ is the ratio of the closing price on day $t-1$ \n",
    "- A portfolio p is a distribution on the N stocks\n",
    "- Wealth achieved per dollar invested is $\\prod_{i=1}^{T}(p_{t}\\cdot r_{t})$ and the logarithmic growth ratio is $\\prod_{i=1}^{T}log(p_{t}\\cdot r_{t})$ \n",
    "- The best Constant Rebalanced Portfolio in hindsight $p^{*}$ is the one which maximizes the logarithmic growth ratio \n",
    "- Mathematically, one can define regret at follows:\n",
    "    - $ Regret(Alg)  \\triangleq \\sum_{t=1}^{T} log(p^{*}\\cdot r_{t}) - \\sum_{t=1}^{T}log(p_{t} \\cdot r_{t}) $\n",
    "- Key Assumptions:\n",
    "    - WLOG the authors assume thta $r_{t}$ is scaled to that $max_{j}r_{t}(j) = 1$\n",
    "    - Additionally, it is assumed that after scaling $r_{t}$, all the $r_{t}(j)$ are bounded below by the market variability parameter $\\alpha > 0$\n",
    "        - Referred to as the no-junk-bond assumption "
   ]
  },
  {
   "cell_type": "markdown",
   "metadata": {},
   "source": [
    "### 3. Online Newton Step \n",
    "- On period 1, use the uniform portfolio $p_{1} = \\frac{1}{n}1$\n",
    "- On period $t > 1$: Play strategy $p_{t} = (1-\\eta)p_{t} + \\eta \\cdot \\frac{1}{n}1$, such that \n",
    "    - $ p_{t} = \\prod_{S_{n}=1}^{A_{t-1}}(\\delta A_{t-1}^{-1}b_{t-1}) $, where \n",
    "        - $ b_{t-1} = (1 + \\frac{1}{\\beta})\\sum_{\\tau}^{t-1}\\nabla[log_{\\tau}(p_{\\tau}\\cdot r_{\\tau})]$, $A_{t-1} = \\sum_{\\tau=1}^{t-1} - \\nabla^{2}[log(p_{\\tau}\\cdot r_{\\tau})] + I_{n}$, and $\\prod_{S_{N}}^{A_{t-1}}$ is the projection in the norm induced by $A_{t-1}$ viz., <br>\n",
    "        \n",
    "        $\\prod_{S_{n}}^{A_{t-1}}(q) = \\underset{p\\in S_{n}}{\\operatorname{argmin}} (q - p)^{\\intercal} A_{t-1} (q - p)$\n",
    "- The ONS algorithm has optimal regret and efficient computability \n",
    "- Implemenation can be completed in $O(n_{2})$ time and space\n",
    "- From the above mathematical explanation one can see that per iteration one need to compute an $nxn$ matrix inverse, a matrix vector product, and a projection into the simplex\n",
    "- The sound theoretical properties are outlined in great detail in the paper "
   ]
  },
  {
   "cell_type": "markdown",
   "metadata": {},
   "source": [
    "### 4. Experimental Results \n",
    "- Model Parameters: $\\eta = 0, \\beta =1, and \\delta = \\frac{1}{8}$\n",
    "- Performance Measures: Annualized Percentage Yields (APYs), Sharpe ratio, and mean-variance optimality\n",
    "- Algorithms evaluated: Best CRP, Uniform CRP, Universal, MW, Internal Regret Variant of MW, Online Newton Step, Internal regret variant of ONS "
   ]
  },
  {
   "attachments": {},
   "cell_type": "markdown",
   "metadata": {},
   "source": [
    "### 4.1 Performance vs. Portfolio Size \n",
    "<img style=\"float: centre;\" src=\"perf_nstocks_cap.PNG\">         \n",
    "<img style=\"float: center;\" src=\"ons_cms_cap.PNG\">    "
   ]
  },
  {
   "cell_type": "markdown",
   "metadata": {},
   "source": [
    "### 4.2 Random Stocks from S&P 500"
   ]
  },
  {
   "cell_type": "markdown",
   "metadata": {},
   "source": [
    "<img style=\"float: centre;\" src=\"fig4.PNG\">\n",
    "<img style=\"float: centre;\" src=\"fig5.PNG\">  \n",
    "<img style=\"float: centre;\" src=\"fig6.PNG\"> "
   ]
  },
  {
   "cell_type": "markdown",
   "metadata": {},
   "source": [
    "### 4.3 Stock Volatility \n",
    "<img style=\"float: centre;\" src=\"fig7.PNG\"> "
   ]
  },
  {
   "cell_type": "markdown",
   "metadata": {},
   "source": [
    "- Additional Tests: Margin Loans, Running Time Comparisons"
   ]
  },
  {
   "cell_type": "markdown",
   "metadata": {},
   "source": [
    "### 5. Conclusions\n",
    "- ONS is extremely fast in practice and performs better than other algorithms when tracking the best stock\n",
    "- Next steps:\n",
    "    - Combine anti-correlated heuristic of Borodin et al. (2004)\n",
    "    - Incorporate transaction costs into the algorithm"
   ]
  },
  {
   "cell_type": "markdown",
   "metadata": {},
   "source": [
    "### 6. Early Implementation "
   ]
  },
  {
   "cell_type": "code",
   "execution_count": null,
   "metadata": {
    "collapsed": true
   },
   "outputs": [],
   "source": []
  }
 ],
 "metadata": {
  "kernelspec": {
   "display_name": "Python 3",
   "language": "python",
   "name": "python3"
  },
  "language_info": {
   "codemirror_mode": {
    "name": "ipython",
    "version": 3
   },
   "file_extension": ".py",
   "mimetype": "text/x-python",
   "name": "python",
   "nbconvert_exporter": "python",
   "pygments_lexer": "ipython3",
   "version": "3.6.1"
  }
 },
 "nbformat": 4,
 "nbformat_minor": 2
}
