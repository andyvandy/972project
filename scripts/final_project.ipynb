{
 "cells": [
  {
   "cell_type": "markdown",
   "metadata": {},
   "source": [
    "## ACTSC972 \n",
    "## Final Project: Newton Method based Portfolio Management \n"
   ]
  },
  {
   "cell_type": "code",
   "execution_count": 2,
   "metadata": {},
   "outputs": [
    {
     "ename": "ImportError",
     "evalue": "No module named cvxopt",
     "output_type": "error",
     "traceback": [
      "\u001b[1;31m---------------------------------------------------------------------------\u001b[0m",
      "\u001b[1;31mImportError\u001b[0m                               Traceback (most recent call last)",
      "\u001b[1;32m<ipython-input-2-09fef9cbcce1>\u001b[0m in \u001b[0;36m<module>\u001b[1;34m()\u001b[0m\n\u001b[0;32m      2\u001b[0m \u001b[1;32mimport\u001b[0m \u001b[0mpandas\u001b[0m \u001b[1;32mas\u001b[0m \u001b[0mpd\u001b[0m\u001b[1;33m\u001b[0m\u001b[0m\n\u001b[0;32m      3\u001b[0m \u001b[1;32mimport\u001b[0m \u001b[0mquadprog\u001b[0m\u001b[1;33m\u001b[0m\u001b[0m\n\u001b[1;32m----> 4\u001b[1;33m \u001b[1;32mimport\u001b[0m \u001b[0mcvxopt\u001b[0m\u001b[1;33m\u001b[0m\u001b[0m\n\u001b[0m",
      "\u001b[1;31mImportError\u001b[0m: No module named cvxopt"
     ]
    }
   ],
   "source": [
    "import numpy as np \n",
    "import pandas as pd \n",
    "import quadprog\n",
    "import cvxopt"
   ]
  },
  {
   "cell_type": "code",
   "execution_count": null,
   "metadata": {
    "collapsed": true
   },
   "outputs": [],
   "source": [
    "from sklearn.linear_model import LogisticRegression"
   ]
  },
  {
   "cell_type": "markdown",
   "metadata": {},
   "source": [
    "#### Initial Data Set for Algorithm Design "
   ]
  },
  {
   "cell_type": "code",
   "execution_count": null,
   "metadata": {
    "collapsed": true
   },
   "outputs": [],
   "source": [
    "ibm_df = pd.read_csv('IBM.csv')\n",
    "coca_df = pd.read_csv('KO.csv')"
   ]
  },
  {
   "cell_type": "markdown",
   "metadata": {},
   "source": [
    "#### Data Cleansing"
   ]
  },
  {
   "cell_type": "code",
   "execution_count": null,
   "metadata": {},
   "outputs": [],
   "source": [
    "ibm_df.head()"
   ]
  },
  {
   "cell_type": "code",
   "execution_count": null,
   "metadata": {},
   "outputs": [],
   "source": [
    "coca_df.head()"
   ]
  },
  {
   "cell_type": "code",
   "execution_count": null,
   "metadata": {
    "collapsed": true
   },
   "outputs": [],
   "source": [
    "# convert date columns to datetime for analysis purposes \n",
    "date_conv = lambda x: pd.to_datetime(x)\n",
    "ibm_df['Date'], coca_df['Date'] = ibm_df['Date'].apply(date_conv), coca_df.apply(date_conv)"
   ]
  },
  {
   "cell_type": "code",
   "execution_count": null,
   "metadata": {},
   "outputs": [],
   "source": [
    "ibm_df['Date'].head()"
   ]
  },
  {
   "cell_type": "code",
   "execution_count": null,
   "metadata": {
    "collapsed": true
   },
   "outputs": [],
   "source": [
    "ibm_df, coca_df = ibm_df.set_index('Date'), coca_df.set_index('Date')"
   ]
  },
  {
   "cell_type": "code",
   "execution_count": null,
   "metadata": {
    "collapsed": true
   },
   "outputs": [],
   "source": [
    "#Select to start analysis: 1985-01-05 to present\n",
    "start = '1985-01-05'\n",
    "ibm_df, coca_df = ibm_df.loc[start:], coca_df[start:]"
   ]
  },
  {
   "cell_type": "markdown",
   "metadata": {},
   "source": [
    "### Basic Problem Formulation"
   ]
  },
  {
   "cell_type": "code",
   "execution_count": null,
   "metadata": {
    "collapsed": true
   },
   "outputs": [],
   "source": [
    "n =2      # number of stocks held in portfolio\n",
    "\n",
    "# Price Relative Vectors\n",
    "ibm_rt = ibm_df.iloc[1:,3].as_matrix()/ibm_df.iloc[0:-1, 3].as_matrix()\n",
    "coca_rt = coca_df.iloc[1:,3].as_matrix()/coca_df.iloc[0:-1,3].as_matrix()"
   ]
  },
  {
   "cell_type": "markdown",
   "metadata": {},
   "source": [
    "#### Online Newton Method Implementation "
   ]
  },
  {
   "cell_type": "code",
   "execution_count": null,
   "metadata": {
    "collapsed": true
   },
   "outputs": [],
   "source": [
    "def init_port(n):\n",
    "    '''\n",
    "    Function that computes the weights of the initial portfolio for the Online Newton Method\n",
    "    inputs:\n",
    "    n -- number of stocks in the portfolio\n",
    "    output:\n",
    "    p_1 -- vector containing the weights of the 1/n portfolio\n",
    "    '''\n",
    "    p_1 = np.repeat(1/n, n)\n",
    "    return p_1"
   ]
  },
  {
   "cell_type": "code",
   "execution_count": null,
   "metadata": {
    "collapsed": true
   },
   "outputs": [],
   "source": [
    "def gradient(b,p,r):\n",
    "    '''\n",
    "    Gradient of the regret function\n",
    "    '''\n",
    "    grad = b + r/(np.dot(p,r))\n",
    "    return grad"
   ]
  },
  {
   "cell_type": "code",
   "execution_count": null,
   "metadata": {
    "collapsed": true
   },
   "outputs": [],
   "source": [
    "def projection(p):\n",
    "    '''\n",
    "    Compute the projection onto the viable set\n",
    "    '''\n",
    "    "
   ]
  },
  {
   "cell_type": "code",
   "execution_count": null,
   "metadata": {
    "collapsed": true
   },
   "outputs": [],
   "source": [
    "def online_newton(base, eta):\n",
    "    \n",
    "    #gradient of the regret function"
   ]
  },
  {
   "cell_type": "code",
   "execution_count": null,
   "metadata": {
    "collapsed": true
   },
   "outputs": [],
   "source": [
    "library(quadprogXT)\n",
    " \n",
    "OGD &amp;amp;amp;amp;amp;amp;lt;- function(base, eta) {\n",
    " \n",
    "  # Gradient of Regret Function\n",
    "  gradient = function(b, p, r) b + r/(p%*%r)\n",
    " \n",
    "  # Projection onto viable Set\n",
    "  proj = function(p) {\n",
    " \n",
    "    Dmat = diag(length(p))\n",
    "    Amat = cbind(diag(rep(1, length(p))), -1)\n",
    "    bvec = c(rep(0, length(p)), -1)\n",
    " \n",
    "    fit = solveQPXT(Dmat = Dmat, dvec = p, Amat = Amat, bvec = bvec)\n",
    " \n",
    "    return(fit$solution)\n",
    "  }\n",
    " \n",
    "  T = nrow(base)\n",
    "  N = ncol(base)\n",
    " \n",
    "  r = as.matrix(base) + 1 # this is because the algo doesnt work directly with log returns\n",
    "  p = matrix(0, nrow = N, ncol = T); p[,1] = 1/N # initial portfolio\n",
    "  b = matrix(0, nrow = N, ncol = T); b[,1] = 0\n",
    " \n",
    "  for (i in 2:T) {\n",
    "    b[,i] = gradient(b[,i-1], p[,i-1], r[i-1,]) # calculating gradient\n",
    "    p.aux = p[,i-1] + eta*b[,i] # what we would like to play\n",
    "    p[,i] = proj(p.aux) # projection in the viable set\n",
    "  }\n",
    " \n",
    "  return(list('portfolio' = p,'gradient' = b))\n",
    "}\n",
    " \n",
    "# testing two etas\n",
    "portfolio1 &amp;amp;amp;amp;amp;amp;lt;- OGD(base = data_returns, eta = 1/100)\n",
    "portfolio2 &amp;amp;amp;amp;amp;amp;lt;- OGD(base = data_returns, eta = 1/1000)\n"
   ]
  }
 ],
 "metadata": {
  "kernelspec": {
   "display_name": "Python 2",
   "language": "python",
   "name": "python2"
  },
  "language_info": {
   "codemirror_mode": {
    "name": "ipython",
    "version": 2
   },
   "file_extension": ".py",
   "mimetype": "text/x-python",
   "name": "python",
   "nbconvert_exporter": "python",
   "pygments_lexer": "ipython2",
   "version": "2.7.13"
  }
 },
 "nbformat": 4,
 "nbformat_minor": 2
}
